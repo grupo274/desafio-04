{
  "nbformat": 4,
  "nbformat_minor": 0,
  "metadata": {
    "colab": {
      "provenance": [],
      "include_colab_link": true
    },
    "kernelspec": {
      "name": "python3",
      "display_name": "Python 3"
    },
    "language_info": {
      "name": "python"
    },
    "widgets": {
      "application/vnd.jupyter.widget-state+json": {
        "f4f1fe92d0924cde8d5e59164ae45f86": {
          "model_module": "@jupyter-widgets/output",
          "model_name": "OutputModel",
          "model_module_version": "1.0.0",
          "state": {
            "_dom_classes": [],
            "_model_module": "@jupyter-widgets/output",
            "_model_module_version": "1.0.0",
            "_model_name": "OutputModel",
            "_view_count": null,
            "_view_module": "@jupyter-widgets/output",
            "_view_module_version": "1.0.0",
            "_view_name": "OutputView",
            "layout": "IPY_MODEL_1faf2ba421ae4de8ac3c4aaf00510dd7",
            "msg_id": "",
            "outputs": [
              {
                "output_type": "display_data",
                "data": {
                  "text/plain": "\u001b[32m▰▰▰▱▱▱▱\u001b[0m Thinking...\n\u001b[36m┏━\u001b[0m\u001b[36m Message \u001b[0m\u001b[36m━━━━━━━━━━━━━━━━━━━━━━━━━━━━━━━━━━━━━━━━━━━━━━━━━━━━━━━━━━━━━━━━━━━━━━━━━━━━━━━━━━━━━━━━━━━━━━━━━━━━━━\u001b[0m\u001b[36m━┓\u001b[0m\n\u001b[36m┃\u001b[0m                                                                                                                 \u001b[36m┃\u001b[0m\n\u001b[36m┃\u001b[0m \u001b[32mCalcule o VR de maio/2025\u001b[0m                                                                                       \u001b[36m┃\u001b[0m\n\u001b[36m┃\u001b[0m                                                                                                                 \u001b[36m┃\u001b[0m\n\u001b[36m┗━━━━━━━━━━━━━━━━━━━━━━━━━━━━━━━━━━━━━━━━━━━━━━━━━━━━━━━━━━━━━━━━━━━━━━━━━━━━━━━━━━━━━━━━━━━━━━━━━━━━━━━━━━━━━━━━━┛\u001b[0m\n",
                  "text/html": "<pre style=\"white-space:pre;overflow-x:auto;line-height:normal;font-family:Menlo,'DejaVu Sans Mono',consolas,'Courier New',monospace\"><span style=\"color: #008000; text-decoration-color: #008000\">▰▰▰▱▱▱▱</span> Thinking...\n<span style=\"color: #008080; text-decoration-color: #008080\">┏━ Message ━━━━━━━━━━━━━━━━━━━━━━━━━━━━━━━━━━━━━━━━━━━━━━━━━━━━━━━━━━━━━━━━━━━━━━━━━━━━━━━━━━━━━━━━━━━━━━━━━━━━━━━┓</span>\n<span style=\"color: #008080; text-decoration-color: #008080\">┃</span>                                                                                                                 <span style=\"color: #008080; text-decoration-color: #008080\">┃</span>\n<span style=\"color: #008080; text-decoration-color: #008080\">┃</span> <span style=\"color: #008000; text-decoration-color: #008000\">Calcule o VR de maio/2025</span>                                                                                       <span style=\"color: #008080; text-decoration-color: #008080\">┃</span>\n<span style=\"color: #008080; text-decoration-color: #008080\">┃</span>                                                                                                                 <span style=\"color: #008080; text-decoration-color: #008080\">┃</span>\n<span style=\"color: #008080; text-decoration-color: #008080\">┗━━━━━━━━━━━━━━━━━━━━━━━━━━━━━━━━━━━━━━━━━━━━━━━━━━━━━━━━━━━━━━━━━━━━━━━━━━━━━━━━━━━━━━━━━━━━━━━━━━━━━━━━━━━━━━━━━┛</span>\n</pre>\n"
                },
                "metadata": {}
              }
            ]
          }
        },
        "1faf2ba421ae4de8ac3c4aaf00510dd7": {
          "model_module": "@jupyter-widgets/base",
          "model_name": "LayoutModel",
          "model_module_version": "1.2.0",
          "state": {
            "_model_module": "@jupyter-widgets/base",
            "_model_module_version": "1.2.0",
            "_model_name": "LayoutModel",
            "_view_count": null,
            "_view_module": "@jupyter-widgets/base",
            "_view_module_version": "1.2.0",
            "_view_name": "LayoutView",
            "align_content": null,
            "align_items": null,
            "align_self": null,
            "border": null,
            "bottom": null,
            "display": null,
            "flex": null,
            "flex_flow": null,
            "grid_area": null,
            "grid_auto_columns": null,
            "grid_auto_flow": null,
            "grid_auto_rows": null,
            "grid_column": null,
            "grid_gap": null,
            "grid_row": null,
            "grid_template_areas": null,
            "grid_template_columns": null,
            "grid_template_rows": null,
            "height": null,
            "justify_content": null,
            "justify_items": null,
            "left": null,
            "margin": null,
            "max_height": null,
            "max_width": null,
            "min_height": null,
            "min_width": null,
            "object_fit": null,
            "object_position": null,
            "order": null,
            "overflow": null,
            "overflow_x": null,
            "overflow_y": null,
            "padding": null,
            "right": null,
            "top": null,
            "visibility": null,
            "width": null
          }
        }
      }
    }
  },
  "cells": [
    {
      "cell_type": "markdown",
      "metadata": {
        "id": "view-in-github",
        "colab_type": "text"
      },
      "source": [
        "<a href=\"https://colab.research.google.com/github/grupo274/desafio-04/blob/yadira/Yadira.ipynb\" target=\"_parent\"><img src=\"https://colab.research.google.com/assets/colab-badge.svg\" alt=\"Open In Colab\"/></a>"
      ]
    },
    {
      "cell_type": "code",
      "source": [
        "# 🚀 Agente VR - VERSÃO CORRIGIDA PARA COLAB\n",
        "\n",
        "# === CÉLULA 1: INSTALAÇÃO E CONFIGURAÇÃO ===\n",
        "!pip install pandas openpyxl google-generativeai agno -q\n",
        "\n",
        "import pandas as pd\n",
        "import numpy as np\n",
        "from google.colab import files, userdata\n",
        "import io\n",
        "import os\n",
        "\n",
        "# Imports do Agno\n",
        "from agno.agent import Agent\n",
        "from agno.models.google import Gemini\n",
        "from agno.tools import tool\n",
        "\n",
        "# Configuração da API\n",
        "GOOGLE_API_KEY = userdata.get('GOOGLE_API_KEY')\n",
        "os.environ[\"GOOGLE_API_KEY\"] = GOOGLE_API_KEY\n",
        "model = Gemini(id=\"gemini-1.5-flash\")"
      ],
      "metadata": {
        "id": "JlZamuypiTXl"
      },
      "execution_count": 2,
      "outputs": []
    },
    {
      "cell_type": "code",
      "source": [
        "# === CÉLULA 2: FUNÇÃO DE UPLOAD FINAL ===\n",
        "import unicodedata\n",
        "import pandas as pd\n",
        "from google.colab import files\n",
        "import io\n",
        "\n",
        "def normalizar_nome_arquivo(nome):\n",
        "    \"\"\"Remove acentos e caracteres especiais de uma string.\"\"\"\n",
        "    nfkd_form = unicodedata.normalize('NFKD', nome)\n",
        "    return u\"\".join([c for c in nfkd_form if not unicodedata.combining(c)])\n",
        "\n",
        "def fazer_upload():\n",
        "    \"\"\"Função separada para upload - execute em célula própria\"\"\"\n",
        "    global dados_carregados\n",
        "\n",
        "    print(\"📤 Selecionem todos os arquivos Excel necessários:\")\n",
        "    print(\"• ATIVOS\")\n",
        "    print(\"• ADMISSÃO (admitidos do mês anterior)\")\n",
        "    print(\"• APRENDIZ (para exclusão)\")\n",
        "    print(\"• ESTÁGIO (para exclusão)\")\n",
        "    print(\"• DIRETORES (para exclusão)\") # <--- ADICIONADO AVISO\n",
        "    print(\"• EXTERIOR (para exclusão)\")\n",
        "    print(\"• FÉRIAS (para exclusão)\")\n",
        "    print(\"• AFASTAMENTOS (para exclusão)\")\n",
        "    print(\"• DESLIGADOS (para regras de pagamento)\")\n",
        "    print(\"• Base sindicato x valor\")\n",
        "    print(\"• Base dias úteis\")\n",
        "    print(\"\\n\" + \"=\"*50)\n",
        "\n",
        "    uploaded = files.upload()\n",
        "    dados_carregados = {}\n",
        "\n",
        "    for filename, content in uploaded.items():\n",
        "        try:\n",
        "            filename_lower = filename.lower()\n",
        "            filename_normalizado = normalizar_nome_arquivo(filename_lower)\n",
        "            print(f\"Processando: {filename} (Normalizado para: {filename_normalizado})\")\n",
        "\n",
        "            if 'ativo' in filename_normalizado:\n",
        "                dados_carregados['ativos'] = pd.read_excel(io.BytesIO(content), sheet_name='ATIVOS', engine='openpyxl')\n",
        "            elif 'admissao' in filename_normalizado:\n",
        "                dados_carregados['admissoes'] = pd.read_excel(io.BytesIO(content), engine='openpyxl')\n",
        "            elif 'aprendiz' in filename_normalizado:\n",
        "                dados_carregados['aprendiz'] = pd.read_excel(io.BytesIO(content), engine='openpyxl')\n",
        "            elif 'estagio' in filename_normalizado:\n",
        "                dados_carregados['estagio'] = pd.read_excel(io.BytesIO(content), engine='openpyxl')\n",
        "\n",
        "            # --- NOVA REGRA ADICIONADA AQUI ---\n",
        "            elif 'diretor' in filename_normalizado:\n",
        "                dados_carregados['diretores'] = pd.read_excel(io.BytesIO(content), engine='openpyxl')\n",
        "            # ------------------------------------\n",
        "\n",
        "            elif 'exterior' in filename_normalizado:\n",
        "                dados_carregados['exterior'] = pd.read_excel(io.BytesIO(content), engine='openpyxl')\n",
        "            elif 'feria' in filename_normalizado:\n",
        "                dados_carregados['ferias'] = pd.read_excel(io.BytesIO(content), engine='openpyxl')\n",
        "            elif 'afastamento' in filename_normalizado:\n",
        "                dados_carregados['afastamentos'] = pd.read_excel(io.BytesIO(content), engine='openpyxl')\n",
        "            elif 'desligado' in filename_normalizado:\n",
        "                dados_carregados['desligados'] = pd.read_excel(io.BytesIO(content), engine='openpyxl')\n",
        "            elif 'sindicato' in filename_normalizado or ('valor' in filename_normalizado and 'base' in filename_normalizado):\n",
        "                dados_carregados['sindicato_valor'] = pd.read_excel(io.BytesIO(content), engine='openpyxl')\n",
        "            elif 'dia' in filename_normalizado and ('ute' in filename_normalizado or 'util' in filename_normalizado):\n",
        "                dados_carregados['dias_uteis'] = pd.read_excel(io.BytesIO(content), engine='openpyxl')\n",
        "            else:\n",
        "                print(f\"⚠️ Arquivo não reconhecido: {filename}\")\n",
        "\n",
        "        except Exception as e:\n",
        "            print(f\"❌ Erro ao processar {filename}: {e}\")\n",
        "\n",
        "    print(f\"\\n✅ {len(dados_carregados)} arquivos carregados com sucesso!\")\n",
        "\n",
        "    for nome, df in dados_carregados.items():\n",
        "        print(f\"• {nome}: {len(df)} linhas, {len(df.columns)} colunas\")\n",
        "\n",
        "    return dados_carregados"
      ],
      "metadata": {
        "id": "SuFtWzkbiUKJ"
      },
      "execution_count": 4,
      "outputs": []
    },
    {
      "cell_type": "code",
      "source": [
        "# Execute esta célula para carregar os arquivos\n",
        "dados_carregados = fazer_upload()"
      ],
      "metadata": {
        "colab": {
          "base_uri": "https://localhost:8080/",
          "height": 1000
        },
        "id": "T2R-xMFTjYG4",
        "outputId": "47681435-99e3-44f3-faef-5a1f13ffc5b7"
      },
      "execution_count": 5,
      "outputs": [
        {
          "output_type": "stream",
          "name": "stdout",
          "text": [
            "📤 Selecionem todos os arquivos Excel necessários:\n",
            "• ATIVOS\n",
            "• ADMISSÃO (admitidos do mês anterior)\n",
            "• APRENDIZ (para exclusão)\n",
            "• ESTÁGIO (para exclusão)\n",
            "• DIRETORES (para exclusão)\n",
            "• EXTERIOR (para exclusão)\n",
            "• FÉRIAS (para exclusão)\n",
            "• AFASTAMENTOS (para exclusão)\n",
            "• DESLIGADOS (para regras de pagamento)\n",
            "• Base sindicato x valor\n",
            "• Base dias úteis\n",
            "\n",
            "==================================================\n"
          ]
        },
        {
          "output_type": "display_data",
          "data": {
            "text/plain": [
              "<IPython.core.display.HTML object>"
            ],
            "text/html": [
              "\n",
              "     <input type=\"file\" id=\"files-0c4c6783-02db-4a18-b316-7e23f4459b82\" name=\"files[]\" multiple disabled\n",
              "        style=\"border:none\" />\n",
              "     <output id=\"result-0c4c6783-02db-4a18-b316-7e23f4459b82\">\n",
              "      Upload widget is only available when the cell has been executed in the\n",
              "      current browser session. Please rerun this cell to enable.\n",
              "      </output>\n",
              "      <script>// Copyright 2017 Google LLC\n",
              "//\n",
              "// Licensed under the Apache License, Version 2.0 (the \"License\");\n",
              "// you may not use this file except in compliance with the License.\n",
              "// You may obtain a copy of the License at\n",
              "//\n",
              "//      http://www.apache.org/licenses/LICENSE-2.0\n",
              "//\n",
              "// Unless required by applicable law or agreed to in writing, software\n",
              "// distributed under the License is distributed on an \"AS IS\" BASIS,\n",
              "// WITHOUT WARRANTIES OR CONDITIONS OF ANY KIND, either express or implied.\n",
              "// See the License for the specific language governing permissions and\n",
              "// limitations under the License.\n",
              "\n",
              "/**\n",
              " * @fileoverview Helpers for google.colab Python module.\n",
              " */\n",
              "(function(scope) {\n",
              "function span(text, styleAttributes = {}) {\n",
              "  const element = document.createElement('span');\n",
              "  element.textContent = text;\n",
              "  for (const key of Object.keys(styleAttributes)) {\n",
              "    element.style[key] = styleAttributes[key];\n",
              "  }\n",
              "  return element;\n",
              "}\n",
              "\n",
              "// Max number of bytes which will be uploaded at a time.\n",
              "const MAX_PAYLOAD_SIZE = 100 * 1024;\n",
              "\n",
              "function _uploadFiles(inputId, outputId) {\n",
              "  const steps = uploadFilesStep(inputId, outputId);\n",
              "  const outputElement = document.getElementById(outputId);\n",
              "  // Cache steps on the outputElement to make it available for the next call\n",
              "  // to uploadFilesContinue from Python.\n",
              "  outputElement.steps = steps;\n",
              "\n",
              "  return _uploadFilesContinue(outputId);\n",
              "}\n",
              "\n",
              "// This is roughly an async generator (not supported in the browser yet),\n",
              "// where there are multiple asynchronous steps and the Python side is going\n",
              "// to poll for completion of each step.\n",
              "// This uses a Promise to block the python side on completion of each step,\n",
              "// then passes the result of the previous step as the input to the next step.\n",
              "function _uploadFilesContinue(outputId) {\n",
              "  const outputElement = document.getElementById(outputId);\n",
              "  const steps = outputElement.steps;\n",
              "\n",
              "  const next = steps.next(outputElement.lastPromiseValue);\n",
              "  return Promise.resolve(next.value.promise).then((value) => {\n",
              "    // Cache the last promise value to make it available to the next\n",
              "    // step of the generator.\n",
              "    outputElement.lastPromiseValue = value;\n",
              "    return next.value.response;\n",
              "  });\n",
              "}\n",
              "\n",
              "/**\n",
              " * Generator function which is called between each async step of the upload\n",
              " * process.\n",
              " * @param {string} inputId Element ID of the input file picker element.\n",
              " * @param {string} outputId Element ID of the output display.\n",
              " * @return {!Iterable<!Object>} Iterable of next steps.\n",
              " */\n",
              "function* uploadFilesStep(inputId, outputId) {\n",
              "  const inputElement = document.getElementById(inputId);\n",
              "  inputElement.disabled = false;\n",
              "\n",
              "  const outputElement = document.getElementById(outputId);\n",
              "  outputElement.innerHTML = '';\n",
              "\n",
              "  const pickedPromise = new Promise((resolve) => {\n",
              "    inputElement.addEventListener('change', (e) => {\n",
              "      resolve(e.target.files);\n",
              "    });\n",
              "  });\n",
              "\n",
              "  const cancel = document.createElement('button');\n",
              "  inputElement.parentElement.appendChild(cancel);\n",
              "  cancel.textContent = 'Cancel upload';\n",
              "  const cancelPromise = new Promise((resolve) => {\n",
              "    cancel.onclick = () => {\n",
              "      resolve(null);\n",
              "    };\n",
              "  });\n",
              "\n",
              "  // Wait for the user to pick the files.\n",
              "  const files = yield {\n",
              "    promise: Promise.race([pickedPromise, cancelPromise]),\n",
              "    response: {\n",
              "      action: 'starting',\n",
              "    }\n",
              "  };\n",
              "\n",
              "  cancel.remove();\n",
              "\n",
              "  // Disable the input element since further picks are not allowed.\n",
              "  inputElement.disabled = true;\n",
              "\n",
              "  if (!files) {\n",
              "    return {\n",
              "      response: {\n",
              "        action: 'complete',\n",
              "      }\n",
              "    };\n",
              "  }\n",
              "\n",
              "  for (const file of files) {\n",
              "    const li = document.createElement('li');\n",
              "    li.append(span(file.name, {fontWeight: 'bold'}));\n",
              "    li.append(span(\n",
              "        `(${file.type || 'n/a'}) - ${file.size} bytes, ` +\n",
              "        `last modified: ${\n",
              "            file.lastModifiedDate ? file.lastModifiedDate.toLocaleDateString() :\n",
              "                                    'n/a'} - `));\n",
              "    const percent = span('0% done');\n",
              "    li.appendChild(percent);\n",
              "\n",
              "    outputElement.appendChild(li);\n",
              "\n",
              "    const fileDataPromise = new Promise((resolve) => {\n",
              "      const reader = new FileReader();\n",
              "      reader.onload = (e) => {\n",
              "        resolve(e.target.result);\n",
              "      };\n",
              "      reader.readAsArrayBuffer(file);\n",
              "    });\n",
              "    // Wait for the data to be ready.\n",
              "    let fileData = yield {\n",
              "      promise: fileDataPromise,\n",
              "      response: {\n",
              "        action: 'continue',\n",
              "      }\n",
              "    };\n",
              "\n",
              "    // Use a chunked sending to avoid message size limits. See b/62115660.\n",
              "    let position = 0;\n",
              "    do {\n",
              "      const length = Math.min(fileData.byteLength - position, MAX_PAYLOAD_SIZE);\n",
              "      const chunk = new Uint8Array(fileData, position, length);\n",
              "      position += length;\n",
              "\n",
              "      const base64 = btoa(String.fromCharCode.apply(null, chunk));\n",
              "      yield {\n",
              "        response: {\n",
              "          action: 'append',\n",
              "          file: file.name,\n",
              "          data: base64,\n",
              "        },\n",
              "      };\n",
              "\n",
              "      let percentDone = fileData.byteLength === 0 ?\n",
              "          100 :\n",
              "          Math.round((position / fileData.byteLength) * 100);\n",
              "      percent.textContent = `${percentDone}% done`;\n",
              "\n",
              "    } while (position < fileData.byteLength);\n",
              "  }\n",
              "\n",
              "  // All done.\n",
              "  yield {\n",
              "    response: {\n",
              "      action: 'complete',\n",
              "    }\n",
              "  };\n",
              "}\n",
              "\n",
              "scope.google = scope.google || {};\n",
              "scope.google.colab = scope.google.colab || {};\n",
              "scope.google.colab._files = {\n",
              "  _uploadFiles,\n",
              "  _uploadFilesContinue,\n",
              "};\n",
              "})(self);\n",
              "</script> "
            ]
          },
          "metadata": {}
        },
        {
          "output_type": "stream",
          "name": "stdout",
          "text": [
            "Saving ADMISSÃO ABRIL.xlsx to ADMISSÃO ABRIL.xlsx\n",
            "Saving AFASTAMENTOS.xlsx to AFASTAMENTOS.xlsx\n",
            "Saving APRENDIZ.xlsx to APRENDIZ.xlsx\n",
            "Saving ATIVOS.xlsx to ATIVOS.xlsx\n",
            "Saving Base dias uteis.xlsx to Base dias uteis.xlsx\n",
            "Saving Base sindicato x valor.xlsx to Base sindicato x valor.xlsx\n",
            "Saving desktop.ini to desktop.ini\n",
            "Saving DESLIGADOS.xlsx to DESLIGADOS.xlsx\n",
            "Saving ESTÁGIO.xlsx to ESTÁGIO.xlsx\n",
            "Saving EXTERIOR.xlsx to EXTERIOR.xlsx\n",
            "Saving FÉRIAS.xlsx to FÉRIAS.xlsx\n",
            "Saving VR MENSAL 05.2025.xlsx to VR MENSAL 05.2025.xlsx\n",
            "Processando: ADMISSÃO ABRIL.xlsx (Normalizado para: admissao abril.xlsx)\n",
            "Processando: AFASTAMENTOS.xlsx (Normalizado para: afastamentos.xlsx)\n",
            "Processando: APRENDIZ.xlsx (Normalizado para: aprendiz.xlsx)\n",
            "Processando: ATIVOS.xlsx (Normalizado para: ativos.xlsx)\n",
            "Processando: Base dias uteis.xlsx (Normalizado para: base dias uteis.xlsx)\n",
            "Processando: Base sindicato x valor.xlsx (Normalizado para: base sindicato x valor.xlsx)\n",
            "Processando: desktop.ini (Normalizado para: desktop.ini)\n",
            "⚠️ Arquivo não reconhecido: desktop.ini\n",
            "Processando: DESLIGADOS.xlsx (Normalizado para: desligados.xlsx)\n",
            "Processando: ESTÁGIO.xlsx (Normalizado para: estagio.xlsx)\n",
            "Processando: EXTERIOR.xlsx (Normalizado para: exterior.xlsx)\n",
            "Processando: FÉRIAS.xlsx (Normalizado para: ferias.xlsx)\n",
            "Processando: VR MENSAL 05.2025.xlsx (Normalizado para: vr mensal 05.2025.xlsx)\n",
            "⚠️ Arquivo não reconhecido: VR MENSAL 05.2025.xlsx\n",
            "\n",
            "✅ 10 arquivos carregados com sucesso!\n",
            "• admissoes: 83 linhas, 4 colunas\n",
            "• afastamentos: 20 linhas, 4 colunas\n",
            "• aprendiz: 33 linhas, 2 colunas\n",
            "• ativos: 1815 linhas, 5 colunas\n",
            "• dias_uteis: 5 linhas, 2 colunas\n",
            "• sindicato_valor: 5 linhas, 2 colunas\n",
            "• desligados: 51 linhas, 3 colunas\n",
            "• estagio: 27 linhas, 3 colunas\n",
            "• exterior: 4 linhas, 3 colunas\n",
            "• ferias: 80 linhas, 3 colunas\n"
          ]
        }
      ]
    },
    {
      "cell_type": "code",
      "source": [
        "# === CÉLULA 3: FERRAMENTAS DO AGENTE (VERSÃO FINAL) ===\n",
        "\n",
        "@tool\n",
        "def verificar_dados_carregados() -> dict:\n",
        "    # (Esta função permanece inalterada)\n",
        "    \"\"\"Verifica se os dados foram carregados e mostra informações básicas\"\"\"\n",
        "    if not dados_carregados: return {\"erro\": \"Nenhum arquivo carregado ainda.\", \"instrucao\": \"Execute fazer_upload() em uma nova célula para carregar os arquivos.\"}\n",
        "    info = {nome: {\"total_linhas\": len(df), \"total_colunas\": len(df.columns)} for nome, df in dados_carregados.items()}\n",
        "    return {\"arquivos_carregados\": len(dados_carregados), \"detalhes\": info, \"status\": \"✅ Dados prontos para processamento\"}\n",
        "\n",
        "@tool\n",
        "def executar_calculo_vr() -> dict:\n",
        "    \"\"\"Executa o cálculo completo do Vale Refeição para maio/2025\"\"\"\n",
        "    global resultado_vr\n",
        "\n",
        "    if 'ativos' not in dados_carregados: return {\"erro\": \"Base de funcionários ativos não encontrada.\"}\n",
        "\n",
        "    try:\n",
        "        print(\"🔄 Iniciando cálculo do VR...\")\n",
        "\n",
        "        # 1. PREPARAR BASE PRINCIPAL (ATIVOS + ADMISSÕES)\n",
        "        ativos = dados_carregados['ativos'].copy()\n",
        "        if 'admissoes' in dados_carregados:\n",
        "            admissoes_df = dados_carregados['admissoes'].copy()\n",
        "            col_matricula_ativos = next((col for col in ativos.columns if 'matricula' in col.lower() or 'matrícula' in col.lower()), None)\n",
        "            col_matricula_admissoes = next((col for col in admissoes_df.columns if 'matricula' in col.lower() or 'matrícula' in col.lower()), None)\n",
        "            if col_matricula_ativos and col_matricula_admissoes:\n",
        "                admissoes_df.rename(columns={col_matricula_admissoes: col_matricula_ativos}, inplace=True)\n",
        "                ativos = pd.concat([ativos, admissoes_df], ignore_index=True).drop_duplicates(subset=[col_matricula_ativos], keep='first')\n",
        "                print(f\"• Base de ativos após integração de {len(admissoes_df)} admissões: {len(ativos)} funcionários\")\n",
        "\n",
        "        col_matricula = next((col for col in ativos.columns if 'matricula' in col.lower() or 'matrícula' in col.lower()), None)\n",
        "        if not col_matricula: return {\"erro\": \"Coluna de matrícula não encontrada na base de ativos\"}\n",
        "\n",
        "        ativos['MATRICULA'] = pd.to_numeric(ativos[col_matricula], errors='coerce')\n",
        "        ativos = ativos.dropna(subset=['MATRICULA'])\n",
        "        ativos['MATRICULA'] = ativos['MATRICULA'].astype(int)\n",
        "\n",
        "        # 2. COLETAR EXCLUSÕES\n",
        "        total_exclusoes = set()\n",
        "        log_exclusoes = {}\n",
        "        # --- REGRA ATUALIZADA AQUI ---\n",
        "        tipos_exclusao = ['aprendiz', 'estagio', 'exterior', 'ferias', 'afastamentos', 'diretores']\n",
        "        # -----------------------------\n",
        "        for tipo in tipos_exclusao:\n",
        "            if tipo in dados_carregados:\n",
        "                df_exc = dados_carregados[tipo]\n",
        "                col_mat_exc = next((col for col in df_exc.columns if 'matricula' in col.lower() or 'matrícula' in col.lower()), None)\n",
        "                if col_mat_exc:\n",
        "                    mats_exc = set(pd.to_numeric(df_exc[col_mat_exc], errors='coerce').dropna().astype(int))\n",
        "                    total_exclusoes.update(mats_exc)\n",
        "                    log_exclusoes[tipo] = len(mats_exc)\n",
        "                    print(f\"• Exclusões ({tipo}): {len(mats_exc)}\")\n",
        "\n",
        "        # 3. PROCESSAR DESLIGADOS\n",
        "        desligados_ate_15, desligados_apos_15 = set(), set()\n",
        "        if 'desligados' in dados_carregados:\n",
        "            desl = dados_carregados['desligados'].copy()\n",
        "            col_mat_desl = next((c for c in desl.columns if 'matricula' in c.lower() or 'matrícula' in c.lower()), None)\n",
        "            col_data_desl = next((c for c in desl.columns if 'data' in c.lower() and ('demiss' in c.lower() or 'deslig' in c.lower())), None)\n",
        "            col_status = next((c for c in desl.columns if 'comunicado' in c.lower() or 'ok' in c.lower() or 'status' in c.lower()), None)\n",
        "\n",
        "            if col_mat_desl and col_data_desl:\n",
        "                desl['MATRICULA'] = pd.to_numeric(desl[col_mat_desl], errors='coerce')\n",
        "                desl['DATA_DEMISSAO'] = pd.to_datetime(desl[col_data_desl], errors='coerce')\n",
        "                desl_ok = desl[desl[col_status].astype(str).str.upper().isin(['OK', 'S', 'SIM', '1'])] if col_status else desl\n",
        "                maio_2025 = desl_ok[(desl_ok['DATA_DEMISSAO'].dt.month == 5) & (desl_ok['DATA_DEMISSAO'].dt.year == 2025)].dropna(subset=['DATA_DEMISSAO', 'MATRICULA'])\n",
        "                if not maio_2025.empty:\n",
        "                    desligados_ate_15 = set(maio_2025[maio_2025['DATA_DEMISSAO'].dt.day <= 15]['MATRICULA'].astype(int))\n",
        "                    desligados_apos_15 = set(maio_2025[maio_2025['DATA_DEMISSAO'].dt.day > 15]['MATRICULA'].astype(int))\n",
        "                print(f\"• Desligados até dia 15 (excluídos): {len(desligados_ate_15)}\")\n",
        "                print(f\"• Desligados após dia 15 (proporcionais): {len(desligados_apos_15)}\")\n",
        "\n",
        "        # 4. APLICAR EXCLUSÕES TOTAIS\n",
        "        total_exclusoes.update(desligados_ate_15)\n",
        "        funcionarios_elegiveis = ativos[~ativos['MATRICULA'].isin(total_exclusoes)].copy()\n",
        "        print(f\"• Funcionários elegíveis após exclusões: {len(funcionarios_elegiveis)}\")\n",
        "\n",
        "        # 5. MAPEAR SINDICATOS, VALORES E DIAS\n",
        "        col_sindicato = next((c for c in funcionarios_elegiveis.columns if 'sindicato' in c.lower()), None)\n",
        "        funcionarios_elegiveis['SINDICATO'] = funcionarios_elegiveis[col_sindicato] if col_sindicato else 'GERAL'\n",
        "\n",
        "        funcionarios_elegiveis['DIAS_UTEIS'] = 22\n",
        "        if 'dias_uteis' in dados_carregados:\n",
        "            du = dados_carregados['dias_uteis']\n",
        "            dias_sindicato = dict(zip(du.iloc[:, 0], pd.to_numeric(du.iloc[:, 1], errors='coerce')))\n",
        "            funcionarios_elegiveis['DIAS_UTEIS'] = funcionarios_elegiveis['SINDICATO'].map(dias_sindicato).fillna(22)\n",
        "\n",
        "        funcionarios_elegiveis['VALOR_DIARIO'] = 30.0\n",
        "        if 'sindicato_valor' in dados_carregados:\n",
        "            sv = dados_carregados['sindicato_valor']\n",
        "            valores_sindicato = dict(zip(sv.iloc[:, 0], pd.to_numeric(sv.iloc[:, 1], errors='coerce')))\n",
        "            funcionarios_elegiveis['VALOR_DIARIO'] = funcionarios_elegiveis['SINDICATO'].map(valores_sindicato).fillna(30.0)\n",
        "\n",
        "        # 6. AJUSTAR DESLIGADOS PROPORCIONAIS\n",
        "        if desligados_apos_15:\n",
        "            mask_proporcional = funcionarios_elegiveis['MATRICULA'].isin(desligados_apos_15)\n",
        "            funcionarios_elegiveis.loc[mask_proporcional, 'DIAS_UTEIS'] = (funcionarios_elegiveis.loc[mask_proporcional, 'DIAS_UTEIS'] / 2).round().astype(int)\n",
        "\n",
        "        # 7. CÁLCULOS FINAIS\n",
        "        funcionarios_elegiveis['VR_TOTAL'] = funcionarios_elegiveis['DIAS_UTEIS'] * funcionarios_elegiveis['VALOR_DIARIO']\n",
        "        funcionarios_elegiveis['VALOR_EMPRESA'] = (funcionarios_elegiveis['VR_TOTAL'] * 0.8).round(2)\n",
        "        funcionarios_elegiveis['VALOR_FUNCIONARIO'] = (funcionarios_elegiveis['VR_TOTAL'] * 0.2).round(2)\n",
        "\n",
        "        # 8. PREPARAR RESULTADO FINAL\n",
        "        col_empresa = next((c for c in funcionarios_elegiveis.columns if 'empresa' in c.lower()), None)\n",
        "        col_cargo = next((c for c in funcionarios_elegiveis.columns if 'cargo' in c.lower() or 'titulo' in c.lower()), None)\n",
        "        colunas_resultado = ['MATRICULA', col_empresa, col_cargo, 'SINDICATO', 'DIAS_UTEIS', 'VALOR_EMPRESA', 'VALOR_FUNCIONARIO']\n",
        "        resultado_vr = funcionarios_elegiveis[[c for c in colunas_resultado if c]].copy()\n",
        "\n",
        "        rename_map = {'DIAS_UTEIS': 'DIAS A SEREM COMPRADOS', 'VALOR_EMPRESA': 'VALOR A SER COMPRADO PELA EMPRESA', 'VALOR_FUNCIONARIO': 'VALOR A SER DESCONTADO DO FUNCIONÁRIO'}\n",
        "        resultado_vr.rename(columns=rename_map, inplace=True)\n",
        "\n",
        "        total_empresa = resultado_vr['VALOR A SER COMPRADO PELA EMPRESA'].sum()\n",
        "        total_geral = resultado_vr['VALOR A SER COMPRADO PELA EMPRESA'].sum() + resultado_vr['VALOR A SER DESCONTADO DO FUNCIONÁRIO'].sum()\n",
        "\n",
        "        print(\"✅ Cálculo concluído com sucesso!\")\n",
        "        return { \"sucesso\": True, \"funcionarios_elegiveis\": len(resultado_vr), \"custo_total\": f\"R$ {total_geral:,.2f}\" }\n",
        "    except Exception as e:\n",
        "        import traceback\n",
        "        return { \"erro\": f\"Erro durante o cálculo: {str(e)}\", \"detalhes\": traceback.format_exc() }\n",
        "\n"
      ],
      "metadata": {
        "id": "vb7DO2s4iYpi"
      },
      "execution_count": 6,
      "outputs": []
    },
    {
      "cell_type": "code",
      "source": [
        "agent = Agent(\n",
        "    model=model,\n",
        "    show_tool_calls=True,\n",
        "    markdown=True,\n",
        "    instructions=\"\"\"\n",
        "    Você é um especialista em cálculo de Vale Refeição.\n",
        "\n",
        "    PROCESSO PARA CALCULAR VR MAIO/2025:\n",
        "\n",
        "    1. VERIFICAR se os dados foram carregados: verificar_dados_carregados()\n",
        "    2. Se não foram carregados, INSTRUIR o usuário a executar fazer_upload() em nova célula\n",
        "    3. EXECUTAR o cálculo: executar_calculo_vr()\n",
        "    4. EXPORTAR planilha: exportar_planilha()\n",
        "\n",
        "    IMPORTANTE:\n",
        "    - Se dados não estão carregados, NÃO tente calcular\n",
        "    - Sempre explique cada etapa e mostre os resultados\n",
        "    - Se houver erro, explique claramente o que aconteceu\n",
        "    - Mostre estatísticas importantes (totais, médias, etc.)\n",
        "    \"\"\"\n",
        ")\n",
        "\n",
        "# Registrar ferramentas\n",
        "agent.add_tool(verificar_dados_carregados)\n",
        "agent.add_tool(executar_calculo_vr)\n",
        "agent.add_tool(exportar_planilha)\n",
        "\n",
        "print(\"🤖 Agente configurado!\")\n",
        "print(\"\\n\" + \"=\"*60)\n",
        "print(\"📋 COMO USAR:\")\n",
        "print(\"2. Depois execute: agent.print_response('Calcule o VR de maio/2025')\")\n",
        "print(\"=\"*60)"
      ],
      "metadata": {
        "colab": {
          "base_uri": "https://localhost:8080/"
        },
        "id": "cx-rJvYVig4V",
        "outputId": "0e4573ec-08f0-40d6-dbbb-670f6f77130e"
      },
      "execution_count": 10,
      "outputs": [
        {
          "output_type": "stream",
          "name": "stdout",
          "text": [
            "🤖 Agente configurado!\n",
            "\n",
            "============================================================\n",
            "📋 COMO USAR:\n",
            "2. Depois execute: agent.print_response('Calcule o VR de maio/2025')\n",
            "============================================================\n"
          ]
        }
      ]
    },
    {
      "cell_type": "code",
      "source": [
        "agent.print_response('Calcule o VR de maio/2025')\n"
      ],
      "metadata": {
        "colab": {
          "base_uri": "https://localhost:8080/",
          "height": 273,
          "referenced_widgets": [
            "f4f1fe92d0924cde8d5e59164ae45f86",
            "1faf2ba421ae4de8ac3c4aaf00510dd7"
          ]
        },
        "id": "sDJUYQYjkKI0",
        "outputId": "c429f19a-06c5-4f2d-b6f4-e2bf1fff345c"
      },
      "execution_count": null,
      "outputs": [
        {
          "output_type": "display_data",
          "data": {
            "text/plain": [
              "Output()"
            ],
            "application/vnd.jupyter.widget-view+json": {
              "version_major": 2,
              "version_minor": 0,
              "model_id": "f4f1fe92d0924cde8d5e59164ae45f86"
            }
          },
          "metadata": {}
        },
        {
          "output_type": "display_data",
          "data": {
            "text/plain": [
              "🔄 Iniciando cálculo do VR...\n"
            ],
            "text/html": [
              "<pre style=\"white-space:pre;overflow-x:auto;line-height:normal;font-family:Menlo,'DejaVu Sans Mono',consolas,'Courier New',monospace\">🔄 Iniciando cálculo do VR...\n",
              "</pre>\n"
            ]
          },
          "metadata": {}
        },
        {
          "output_type": "display_data",
          "data": {
            "text/plain": [
              "• Base de ativos após integração de 83 admissões: 1825 funcionários\n"
            ],
            "text/html": [
              "<pre style=\"white-space:pre;overflow-x:auto;line-height:normal;font-family:Menlo,'DejaVu Sans Mono',consolas,'Courier New',monospace\">• Base de ativos após integração de 83 admissões: 1825 funcionários\n",
              "</pre>\n"
            ]
          },
          "metadata": {}
        },
        {
          "output_type": "display_data",
          "data": {
            "text/plain": [
              "• Exclusões (aprendiz): 33\n"
            ],
            "text/html": [
              "<pre style=\"white-space:pre;overflow-x:auto;line-height:normal;font-family:Menlo,'DejaVu Sans Mono',consolas,'Courier New',monospace\">• Exclusões (aprendiz): 33\n",
              "</pre>\n"
            ]
          },
          "metadata": {}
        },
        {
          "output_type": "display_data",
          "data": {
            "text/plain": [
              "• Exclusões (estagio): 27\n"
            ],
            "text/html": [
              "<pre style=\"white-space:pre;overflow-x:auto;line-height:normal;font-family:Menlo,'DejaVu Sans Mono',consolas,'Courier New',monospace\">• Exclusões (estagio): 27\n",
              "</pre>\n"
            ]
          },
          "metadata": {}
        },
        {
          "output_type": "display_data",
          "data": {
            "text/plain": [
              "• Exclusões (ferias): 80\n"
            ],
            "text/html": [
              "<pre style=\"white-space:pre;overflow-x:auto;line-height:normal;font-family:Menlo,'DejaVu Sans Mono',consolas,'Courier New',monospace\">• Exclusões (ferias): 80\n",
              "</pre>\n"
            ]
          },
          "metadata": {}
        },
        {
          "output_type": "display_data",
          "data": {
            "text/plain": [
              "• Exclusões (afastamentos): 20\n"
            ],
            "text/html": [
              "<pre style=\"white-space:pre;overflow-x:auto;line-height:normal;font-family:Menlo,'DejaVu Sans Mono',consolas,'Courier New',monospace\">• Exclusões (afastamentos): 20\n",
              "</pre>\n"
            ]
          },
          "metadata": {}
        },
        {
          "output_type": "display_data",
          "data": {
            "text/plain": [
              "• Desligados até dia 15 (excluídos): 39\n"
            ],
            "text/html": [
              "<pre style=\"white-space:pre;overflow-x:auto;line-height:normal;font-family:Menlo,'DejaVu Sans Mono',consolas,'Courier New',monospace\">• Desligados até dia 15 (excluídos): 39\n",
              "</pre>\n"
            ]
          },
          "metadata": {}
        },
        {
          "output_type": "display_data",
          "data": {
            "text/plain": [
              "• Desligados após dia 15 (proporcionais): 8\n"
            ],
            "text/html": [
              "<pre style=\"white-space:pre;overflow-x:auto;line-height:normal;font-family:Menlo,'DejaVu Sans Mono',consolas,'Courier New',monospace\">• Desligados após dia 15 (proporcionais): 8\n",
              "</pre>\n"
            ]
          },
          "metadata": {}
        },
        {
          "output_type": "display_data",
          "data": {
            "text/plain": [
              "• Funcionários elegíveis após exclusões: 1724\n"
            ],
            "text/html": [
              "<pre style=\"white-space:pre;overflow-x:auto;line-height:normal;font-family:Menlo,'DejaVu Sans Mono',consolas,'Courier New',monospace\">• Funcionários elegíveis após exclusões: 1724\n",
              "</pre>\n"
            ]
          },
          "metadata": {}
        },
        {
          "output_type": "display_data",
          "data": {
            "text/plain": [
              "✅ Cálculo concluído com sucesso!\n"
            ],
            "text/html": [
              "<pre style=\"white-space:pre;overflow-x:auto;line-height:normal;font-family:Menlo,'DejaVu Sans Mono',consolas,'Courier New',monospace\">✅ Cálculo concluído com sucesso!\n",
              "</pre>\n"
            ]
          },
          "metadata": {}
        },
        {
          "output_type": "display_data",
          "data": {
            "text/plain": [
              "<IPython.core.display.Javascript object>"
            ],
            "application/javascript": [
              "\n",
              "    async function download(id, filename, size) {\n",
              "      if (!google.colab.kernel.accessAllowed) {\n",
              "        return;\n",
              "      }\n",
              "      const div = document.createElement('div');\n",
              "      const label = document.createElement('label');\n",
              "      label.textContent = `Downloading \"${filename}\": `;\n",
              "      div.appendChild(label);\n",
              "      const progress = document.createElement('progress');\n",
              "      progress.max = size;\n",
              "      div.appendChild(progress);\n",
              "      document.body.appendChild(div);\n",
              "\n",
              "      const buffers = [];\n",
              "      let downloaded = 0;\n",
              "\n",
              "      const channel = await google.colab.kernel.comms.open(id);\n",
              "      // Send a message to notify the kernel that we're ready.\n",
              "      channel.send({})\n",
              "\n",
              "      for await (const message of channel.messages) {\n",
              "        // Send a message to notify the kernel that we're ready.\n",
              "        channel.send({})\n",
              "        if (message.buffers) {\n",
              "          for (const buffer of message.buffers) {\n",
              "            buffers.push(buffer);\n",
              "            downloaded += buffer.byteLength;\n",
              "            progress.value = downloaded;\n",
              "          }\n",
              "        }\n",
              "      }\n",
              "      const blob = new Blob(buffers, {type: 'application/binary'});\n",
              "      const a = document.createElement('a');\n",
              "      a.href = window.URL.createObjectURL(blob);\n",
              "      a.download = filename;\n",
              "      div.appendChild(a);\n",
              "      a.click();\n",
              "      div.remove();\n",
              "    }\n",
              "  "
            ]
          },
          "metadata": {}
        },
        {
          "output_type": "display_data",
          "data": {
            "text/plain": [
              "<IPython.core.display.Javascript object>"
            ],
            "application/javascript": [
              "download(\"download_632df795-b485-4110-86f0-dfe03e6e0378\", \"VR_MENSAL_MAIO_2025_FINAL.xlsx\", 59702)"
            ]
          },
          "metadata": {}
        },
        {
          "output_type": "display_data",
          "data": {
            "text/plain": [],
            "text/html": [
              "<pre style=\"white-space:pre;overflow-x:auto;line-height:normal;font-family:Menlo,'DejaVu Sans Mono',consolas,'Courier New',monospace\"></pre>\n"
            ]
          },
          "metadata": {}
        }
      ]
    },
    {
      "cell_type": "code",
      "metadata": {
        "id": "cef70ff6"
      },
      "source": [
        "@tool\n",
        "def exportar_planilha() -> dict:\n",
        "    \"\"\"Exporta o resultado final do cálculo do VR para um arquivo Excel.\"\"\"\n",
        "    global resultado_vr\n",
        "\n",
        "    if resultado_vr is None:\n",
        "        return {\"erro\": \"Nenhum resultado de cálculo para exportar.\", \"instrucao\": \"Execute executar_calculo_vr() primeiro.\"}\n",
        "\n",
        "    try:\n",
        "        nome_arquivo = \"resultado_calculo_vr_maio_2025.xlsx\"\n",
        "        resultado_vr.to_excel(nome_arquivo, index=False)\n",
        "        print(f\"✅ Resultado exportado para '{nome_arquivo}'\")\n",
        "        return {\"sucesso\": True, \"arquivo\": nome_arquivo, \"instrucao\": f\"O arquivo '{nome_arquivo}' foi gerado. Você pode baixá-lo usando o ícone de pasta ao lado.\"}\n",
        "    except Exception as e:\n",
        "        return {\"erro\": f\"Erro ao exportar planilha: {str(e)}\"}"
      ],
      "execution_count": 9,
      "outputs": []
    }
  ]
}